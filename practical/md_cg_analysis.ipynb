{
  "nbformat": 4,
  "nbformat_minor": 0,
  "metadata": {
    "colab": {
      "provenance": []
    },
    "kernelspec": {
      "name": "python3",
      "display_name": "Python 3"
    },
    "language_info": {
      "name": "python"
    }
  },
  "cells": [
    {
      "cell_type": "markdown",
      "source": [
        "# Setting up\n",
        "\n",
        "Google Colab lets us access a remote machine to run the protocol rather than our local computer in the form of a **Jupyter Notebook**, a web-based interactive development environment that combines markdown text with Python and Shell commands to perform the analysis. Code can be split into 'chunks' that can be run independently, yet all user-created variables are stored in the notebook's memory to use across different cells. Each time we start a runtime session we need to install and configure the software to use."
      ],
      "metadata": {
        "id": "Hi_X7_Z4Sscl"
      }
    },
    {
      "cell_type": "markdown",
      "source": [
        "## Installing MDAnalysis\n",
        "\n",
        "**MDAnalysis** is a powerful python library to read and process particle-based trajectories in many different formats, including PDB. It provides a fast and user-friendly framework to manipulate and analyze molecular dynamics simulations.\n",
        "\n",
        "Install MDAnalysis in you working python environment."
      ],
      "metadata": {
        "id": "GFueTMtGSvQj"
      }
    },
    {
      "cell_type": "code",
      "source": [
        "!pip install MDAnalysis"
      ],
      "metadata": {
        "collapsed": true,
        "id": "_GvKdUZwYIXi"
      },
      "execution_count": null,
      "outputs": []
    },
    {
      "cell_type": "markdown",
      "source": [
        "## Analysis\n",
        "\n",
        "For this project we will carry out a contacts analysis between the two monomers. By 'contacts' we refer to 'atomic' interactions ocurring during the course of the MD simulation. Protein activity and mechanism of action at the molecular level are fundamentally governed by networks of atom-atom interactions, so it is extremely valuable to know which of these are the most significant and to understand how they change for different states of the system (e.g. activation).\n",
        "\n",
        "First, load the topology, coordinates (extracted from a PDB file) and trajectory (XTC) of our system to a `MDAnalysis.Universe()`, the most fundamental object in MDAnalysis."
      ],
      "metadata": {
        "id": "bzb5zf3PTHZp"
      }
    },
    {
      "cell_type": "code",
      "source": [
        "import MDAnalysis as mda\n",
        "\n",
        "u = mda.Universe('step5_charmm2gmx.pdb', 'step7_production.xtc')"
      ],
      "metadata": {
        "id": "cI_jPET5_xrc"
      },
      "execution_count": null,
      "outputs": []
    },
    {
      "cell_type": "markdown",
      "source": [
        "Now the variable `u` holds the mda.Universe() we just created. Notice that we can access its contents from a different code cell."
      ],
      "metadata": {
        "id": "T03CmIZP_OX9"
      }
    },
    {
      "cell_type": "code",
      "source": [
        "print(u.atoms)"
      ],
      "metadata": {
        "id": "w1bWWpd7AXop"
      },
      "execution_count": null,
      "outputs": []
    },
    {
      "cell_type": "markdown",
      "source": [
        "### Number of contacts\n"
      ],
      "metadata": {
        "id": "FqNAvtCaTWn9"
      }
    },
    {
      "cell_type": "markdown",
      "source": [
        "First, we define a `get_interactions()` python function, a block of code that we can call anytime to be executed within the notebook. Here, we want the `get_interactions()` function return a list of all the 'atom' interaction pairs between protomers A and B (the two apelin receptors) that occur every trajectory frame. The criterion used to discriminate between interacting and non-interacting atoms will be the euclidian distance. Since it is coarse-grained, we will only retrieve the `resids` to simplify things, which correspond to the residue number within the sequence (atom agnostic)."
      ],
      "metadata": {
        "id": "8VOYMHxX9wxJ"
      }
    },
    {
      "cell_type": "code",
      "source": [
        "import numpy as np\n",
        "import pandas as pd\n",
        "\n",
        "def get_interactions(protA, protB):\n",
        "\n",
        "  interactions = pd.DataFrame()\n",
        "  for i in protA.atoms:\n",
        "    for j in protB.atoms:\n",
        "      distance = np.linalg.norm(i.position - j.position)\n",
        "      if distance < 5:\n",
        "        interactions = pd.concat([interactions, pd.DataFrame({'residA': [int(i.resid)], 'residB': [int(j.resid)], 'frame': [ts.frame]})], ignore_index=True)\n",
        "\n",
        "  return interactions.drop_duplicates()"
      ],
      "metadata": {
        "id": "RFupXKRzD0WM"
      },
      "execution_count": null,
      "outputs": []
    },
    {
      "cell_type": "markdown",
      "source": [
        "> Note: This function iterates over all 'atoms' of `protA` and `protB` and computes the euclidean distance between each pair. If the distance is below some threshold then store the residue numbers of each atom involved and trajectory frame where it occurs in a `pandas.DataFrame()` object. Finally, return the DataFrame() object without any duplicate rows (multiple atoms can contribute to the same residue-residue contact).\n",
        "\n",
        "Now let's calculate how many contacts occur for each trajectory frame. This is a quick way to assess whether the interaction between the two protomers is stable or labile in time."
      ],
      "metadata": {
        "id": "WKcDeLQgedqA"
      }
    },
    {
      "cell_type": "code",
      "source": [
        "ContactsPerFrame = pd.DataFrame()\n",
        "\n",
        "for ts in u.trajectory[::10]:\n",
        "    protA = u.select_atoms('segid PROD')\n",
        "    protB = u.select_atoms('segid PROE and around 10 segid PROD')\n",
        "\n",
        "    interactions = get_interactions(protA, protB)\n",
        "    print(f\"Frame: {ts.frame}\")\n",
        "\n",
        "    ContactsPerFrame = pd.concat([ContactsPerFrame, pd.DataFrame({'frame': [ts.frame], 'contacts': [len(interactions)]})], ignore_index=True)"
      ],
      "metadata": {
        "id": "fHyR-MjpH6ab"
      },
      "execution_count": null,
      "outputs": []
    },
    {
      "cell_type": "markdown",
      "source": [
        "> Note: Here we iterate over every 10th frame in the loaded trajectory and call the `get_interactions()` function. Notice that we define `protB` as a subset of the other protomer (those within 10 A distance of `protA`) to save in computational time. Then store the total number of interactions that occur every frame in `ContactsPerFrame`."
      ],
      "metadata": {
        "id": "gOSE9o3IgFiI"
      }
    },
    {
      "cell_type": "code",
      "source": [
        "print(ContactsPerFrame)"
      ],
      "metadata": {
        "id": "ZhsUH7q8is2i"
      },
      "execution_count": null,
      "outputs": []
    },
    {
      "cell_type": "code",
      "source": [
        "import matplotlib.pyplot as plt\n",
        "\n",
        "plt.plot(ContactsPerFrame['frame'], ContactsPerFrame['contacts'])\n",
        "plt.xlabel(\"Frame\")\n",
        "plt.ylabel(\"Number of contacts\")\n",
        "plt.title(\"Time evolution of contacts\")\n",
        "\n",
        "plt.show()"
      ],
      "metadata": {
        "id": "zx_bTiiEKkha"
      },
      "execution_count": null,
      "outputs": []
    },
    {
      "cell_type": "markdown",
      "source": [
        "> Quesition: Do you think the interaction between the two protomers is stable? Hint: Large swings in total number of contacts is telling of poor stability."
      ],
      "metadata": {
        "id": "OtetXbIMg7Uw"
      }
    },
    {
      "cell_type": "markdown",
      "source": [
        "## Contact frequency\n",
        "\n",
        "Next, let's find out which specific amino acids are involved the most in the contact between the two protomers. For this, we need to get how many times a specific residue-residue interaction occurs throughout the simulation."
      ],
      "metadata": {
        "id": "Hy--BZztMM9z"
      }
    },
    {
      "cell_type": "code",
      "source": [
        "ContactHistory = pd.DataFrame()\n",
        "\n",
        "for ts in u.trajectory[::10]:\n",
        "    protA = u.select_atoms('segid PROD')\n",
        "    protB = u.select_atoms('segid PROE and around 10 segid PROD')\n",
        "\n",
        "    interactions = get_interactions(protA, protB)\n",
        "    print(f\"Frame: {ts.frame}\")\n",
        "\n",
        "    ContactHistory = pd.concat([ContactHistory, interactions], ignore_index=True)"
      ],
      "metadata": {
        "id": "0xdYuYSOO0uC"
      },
      "execution_count": null,
      "outputs": []
    },
    {
      "cell_type": "markdown",
      "source": [
        "> Note: Again, we iterate over every 10th frame of the trajectory and call the `get_interactions()` function. This time, we will keep track of all the ocurring interactions for every frame, stored in `ContactHistory`."
      ],
      "metadata": {
        "id": "3-IVEXiBiQsN"
      }
    },
    {
      "cell_type": "code",
      "source": [
        "print(ContactHistory)"
      ],
      "metadata": {
        "id": "GWL60iZWYRTh"
      },
      "execution_count": null,
      "outputs": []
    },
    {
      "cell_type": "markdown",
      "source": [
        "Now, let's count how many times each unique `residA-residB` interaction occurs. To better display the results, we will construct a *heatmap*, where hotspots of interaction are colored vibrantly in the same spatial region."
      ],
      "metadata": {
        "id": "1q25sswMjXi4"
      }
    },
    {
      "cell_type": "code",
      "source": [
        "uniqueA = np.sort(ContactHistory['residA'].unique())\n",
        "uniqueB = np.sort(ContactHistory['residB'].unique())\n",
        "\n",
        "ContactHeatmap = pd.DataFrame(0, index=uniqueA, columns=uniqueB)\n",
        "\n",
        "for index, row in ContactHistory.iterrows():\n",
        "  residA = row['residA']\n",
        "  residB = row['residB']\n",
        "  ContactHeatmap.loc[residA, residB] = ContactHeatmap.loc[residA, residB] + 1"
      ],
      "metadata": {
        "id": "CxzmfqJGYekH"
      },
      "execution_count": null,
      "outputs": []
    },
    {
      "cell_type": "markdown",
      "source": [
        "> Note: First we generate an empty NxM array as `ContactHeatmap`, where N and M are any residues of protA or protB respectively that have interacted at least once during the simulation. Then, for every interaction that has occured in `ContactHistory` we add 1 count to the `ContactHeatmap` at the `(residA, residB)` location."
      ],
      "metadata": {
        "id": "ryiS1BEBjHG7"
      }
    },
    {
      "cell_type": "code",
      "source": [
        "import seaborn as sns\n",
        "\n",
        "fig, ax = plt.subplots(nrows=1, ncols=1, figsize=(8,8), sharex=True, sharey=True)\n",
        "\n",
        "sns.heatmap(ContactHeatmap, cmap='Blues', annot=True, cbar=False)\n",
        "plt.title('Contact heatmap')\n",
        "plt.ylabel('protA residue number')\n",
        "plt.xlabel('protB residue number')\n",
        "\n",
        "plt.show()"
      ],
      "metadata": {
        "id": "FXfIGOvRVHme"
      },
      "execution_count": null,
      "outputs": []
    },
    {
      "cell_type": "markdown",
      "source": [
        "> Question: Which residue-residue interactions are the most prevalent?"
      ],
      "metadata": {
        "id": "Alqts6SdolqM"
      }
    }
  ]
}